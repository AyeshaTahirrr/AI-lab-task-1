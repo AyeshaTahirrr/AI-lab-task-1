{
 "cells": [
  {
   "cell_type": "code",
   "execution_count": null,
   "id": "7f10aca3-8d3b-4751-a3f2-5aca3ddab63d",
   "metadata": {},
   "outputs": [],
   "source": [
    "from sklearn.model_selection import train_test_split \n",
    "from sklearn.neighbors import KNeighborsClassifier \n",
    "from sklearn.metrics import confusion_matrix, accuracy_score \n",
    "import numpy as np \n",
    "\n",
    "data = [ \n",
    "    [0, 0, 0], [0, 0, 0], [1, 0, 1], [2, 1, 1], [2, 2, 1], [2, 2, 0],  \n",
    "    [1, 2, 1], [0, 1, 0], [0, 2, 1], [2, 1, 1], [0, 1, 1], [1, 1, 1],  \n",
    "    [1, 0, 1], [2, 1, 0] \n",
    "] \n",
    "\n",
    "X = [row[:2] for row in data]  \n",
    "y = [row[2] for row in data]    \n",
    "\n",
    "knn = KNeighborsClassifier(n_neighbors=3)  \n",
    "\n",
    "X_train, X_test, y_train, y_test = train_test_split(X, y, test_size=0.3, random_state=0) \n",
    "knn.fit(X_train, y_train) \n",
    "\n",
    "test_condition = np.array([[1, 1]])   \n",
    "prediction = knn.predict(test_condition) \n",
    "y_pred = knn.predict(X_test) \n",
    "conf_matrix = confusion_matrix(y_test, y_pred) \n",
    "accuracy = accuracy_score(y_test, y_pred) \n",
    "\n",
    "print(\"Prediction for (Overcast, Mild):\", \"Yes\" if prediction[0] == 1 else \"No\") \n",
    "print(\"Confusion Matrix:\\n\", conf_matrix) \n",
    "print(\"Accuracy:\", accuracy) "
   ]
  }
 ],
 "metadata": {
  "kernelspec": {
   "display_name": "Python 3 (ipykernel)",
   "language": "python",
   "name": "python3"
  },
  "language_info": {
   "codemirror_mode": {
    "name": "ipython",
    "version": 3
   },
   "file_extension": ".py",
   "mimetype": "text/x-python",
   "name": "python",
   "nbconvert_exporter": "python",
   "pygments_lexer": "ipython3",
   "version": "3.12.7"
  }
 },
 "nbformat": 4,
 "nbformat_minor": 5
}
